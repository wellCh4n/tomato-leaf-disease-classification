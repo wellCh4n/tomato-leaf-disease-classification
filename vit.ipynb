{
 "cells": [
  {
   "cell_type": "code",
   "execution_count": null,
   "id": "initial_id",
   "metadata": {
    "collapsed": true
   },
   "outputs": [],
   "source": "!pip install transformers torch torchvision"
  },
  {
   "metadata": {
    "ExecuteTime": {
     "end_time": "2024-12-21T09:40:16.625275Z",
     "start_time": "2024-12-21T09:40:15.549502Z"
    }
   },
   "cell_type": "code",
   "source": [
    "from transformers import pipeline\n",
    "\n",
    "classifier = pipeline(\"image-classification\", model=\"wellCh4n/tomato-leaf-disease-classification-vit\")"
   ],
   "id": "24b5cca97cfff1ff",
   "outputs": [
    {
     "name": "stderr",
     "output_type": "stream",
     "text": [
      "Device set to use mps:0\n"
     ]
    }
   ],
   "execution_count": 4
  },
  {
   "metadata": {
    "ExecuteTime": {
     "end_time": "2024-12-21T09:41:11.347048Z",
     "start_time": "2024-12-21T09:41:11.260814Z"
    }
   },
   "cell_type": "code",
   "source": "classifier('images/healthy.jpg')[0]['label']",
   "id": "8a11673a04243cce",
   "outputs": [
    {
     "data": {
      "text/plain": [
       "'A healthy tomato leaf'"
      ]
     },
     "execution_count": 6,
     "metadata": {},
     "output_type": "execute_result"
    }
   ],
   "execution_count": 6
  },
  {
   "metadata": {
    "ExecuteTime": {
     "end_time": "2024-12-21T09:41:09.082883Z",
     "start_time": "2024-12-21T09:41:08.948920Z"
    }
   },
   "cell_type": "code",
   "source": "classifier('images/tomato_yellow_leaf_curl_virus.png')[0]['label']",
   "id": "7bc37503f236923e",
   "outputs": [
    {
     "data": {
      "text/plain": [
       "'A tomato leaf with Tomato Yellow Leaf Curl Virus'"
      ]
     },
     "execution_count": 5,
     "metadata": {},
     "output_type": "execute_result"
    }
   ],
   "execution_count": 5
  },
  {
   "metadata": {},
   "cell_type": "code",
   "outputs": [],
   "execution_count": null,
   "source": "",
   "id": "1a5bdf1c3a9305c6"
  }
 ],
 "metadata": {
  "kernelspec": {
   "display_name": "Python 3",
   "language": "python",
   "name": "python3"
  },
  "language_info": {
   "codemirror_mode": {
    "name": "ipython",
    "version": 2
   },
   "file_extension": ".py",
   "mimetype": "text/x-python",
   "name": "python",
   "nbconvert_exporter": "python",
   "pygments_lexer": "ipython2",
   "version": "2.7.6"
  }
 },
 "nbformat": 4,
 "nbformat_minor": 5
}
